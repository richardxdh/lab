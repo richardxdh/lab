{
 "cells": [
  {
   "cell_type": "markdown",
   "id": "d51db51b-affa-4da9-a1f3-9ca46341d809",
   "metadata": {
    "tags": []
   },
   "source": [
    "### Coursera - 顽想学概率 - 概率一 - Week5 - Test2"
   ]
  },
  {
   "cell_type": "markdown",
   "id": "6ca0461d-c77c-450b-a19d-faf6653377b2",
   "metadata": {
    "tags": []
   },
   "source": [
    "\n",
    "```text\n",
    "题目描述如下：\n",
    "\n",
    "巷子呈直線,長 L=400m,艾波寧以 v=4m/s初速等速穿越。\n",
    "\n",
    "士兵時時刻刻瞄準她;\n",
    "第t秒時是否擊中她,是隨時間t的均勻的泊松事件(Poisson process), 且與距離無關 。\n",
    "其中,平均每μ秒能擊中一次,μ=100/ln(50)約為 25.5622。\n",
    "士兵無法擊中巷子以外的區域;另外,只要她處於巷中,μ就是常數。\n",
    "\n",
    "當她每被擊中一槍,速度就會減半;直到她恰中4槍時,會當場死亡。\n",
    "亦即,中n槍時速度依序為 4,2,1,0.5m/s,其中 n依序為 0,1,2,3。\n",
    "\n",
    "請問艾波寧成功捎信的機率為何? \n",
    "亦即,在她處於巷子之中時,被射中低於四槍的機率為何?(用小數即可,誤差合理給對)\n",
    "\n",
    "```"
   ]
  },
  {
   "cell_type": "markdown",
   "id": "a9973ec6-0fb3-4516-84a6-285ba338864a",
   "metadata": {},
   "source": [
    "----------\n",
    "\n",
    "##### 要求被射中低于4枪的概率，也就是要求: P(射中0枪)+P(射中1枪)+P(射中2枪)+P(射中3枪)\n",
    "\n",
    "##### 根据题意可知：\n",
    "- 被击中的概率分布是随时间t的均匀泊松分布, $\\lambda=1/\\mu$\n",
    "- 被击中的间隔时间的概率分布满足指数分布\n",
    "\n",
    "[泊松分布](https://www.zhihu.com/question/24796044/answer/673838656)\n",
    "[指数分布](https://www.zhihu.com/question/24796044/answer/673838656)"
   ]
  },
  {
   "attachments": {
    "d582cd67-3e8f-4a25-b6ac-f1fdf0b108c2.png": {
     "image/png": "[encoded data removed]"
    }
   },
   "cell_type": "markdown",
   "id": "51bc8dff-ac5d-4067-83bb-35c7c52c8c44",
   "metadata": {},
   "source": [
    "#### **被击中0枪**\n",
    "\n",
    "**就是以4m/s的速度跑完400m，总耗时100s; 也就是要求100s内被击中0枪的概率，根据泊松分布计算。**\n",
    "\n",
    "![image.png](attachment:d582cd67-3e8f-4a25-b6ac-f1fdf0b108c2.png)\n",
    "\n",
    "t=100s, $\\lambda=1/\\mu$\n",
    "\n",
    "$P(G=0) = (\\lambda t)^0\\frac{e^{-\\lambda t}}{0!} = e^{-\\lambda t}  = e^{-\\frac{t}{\\mu}}$"
   ]
  },
  {
   "attachments": {
    "b8aefa28-d590-4141-b0ec-08f12ca06a65.png": {
     "image/png": "[encoded data removed]"
    }
   },
   "cell_type": "markdown",
   "id": "1c2ab4fa-40d8-49a8-a940-f512688778aa",
   "metadata": {},
   "source": [
    "#### **被击中1枪**\n",
    "**先以4m/s的速度跑了$t_1$秒，被击中，再以2m/s的速度跑完剩下的距离。**\n",
    "\n",
    "![image.png](attachment:b8aefa28-d590-4141-b0ec-08f12ca06a65.png)\n",
    "\n",
    "用指数分布计算$t_1$作为被击中间隔时长的概率密度:    $f(t_1)=\\lambda e^{-\\lambda t_1}$\n",
    "\n",
    "用泊松分布计算$t_2$时间内被击中0枪的概率:  $P(t_2, 0枪) = e^{-\\lambda t_2} = e^{-\\frac{t_2}{\\mu}}$\n",
    "\n",
    "$t_1$与$t_2$的关系为： $4t_1 + 2t_2 = 400$, $t_1$的取值范围为[0, 100], $t_2$的取值范围为[0, 200-2$t_1$]\n",
    "\n",
    "$P(G=1) = \\int^{100}_0 \\lambda e^{-\\lambda t_1} e^{-\\lambda t_2} dt_1 = \\int^{100}_0 \\lambda e^{-\\lambda (200 - t_1)} dt_1$"
   ]
  },
  {
   "attachments": {
    "34090e70-674c-4fe2-9738-1d830bc85ccc.png": {
     "image/png": "[encoded data removed]"
    }
   },
   "cell_type": "markdown",
   "id": "0917706f-d38b-45a5-8c34-c75df7daa7e9",
   "metadata": {},
   "source": [
    "#### **被击中2枪**\n",
    "**在击中一枪的基础上加上1个时间间隔**\n",
    "\n",
    "![image.png](attachment:34090e70-674c-4fe2-9738-1d830bc85ccc.png)\n",
    "\n",
    "$4t_1 + 2t_2 + t_3 = 400$\n",
    "\n",
    "$P(G=2) = \\int_0^{100}\\int_0^{200-2t_1}\\lambda e^{-\\lambda t_1} \\lambda e^{-\\lambda t_2} e^{-\\lambda t_3} dt_2 dt_1\n",
    "= \\int_0^{100}\\int_0^{200-2t_1}\\lambda^2 e^{- \\lambda (400 - 3t_1 - t_2)} dt_2 dt_1\n",
    "$\n",
    "\n"
   ]
  },
  {
   "attachments": {
    "ce281b42-5fdf-4f1e-8c67-772a68f90e9b.png": {
     "image/png": "[encoded data removed]"
    }
   },
   "cell_type": "markdown",
   "id": "9d86cd1f-8fa9-421d-98a7-99d93fa35209",
   "metadata": {},
   "source": [
    "#### **被击中3枪**\n",
    "**在击中2枪的基础上再加上1个时间间隔**\n",
    "\n",
    "![image.png](attachment:ce281b42-5fdf-4f1e-8c67-772a68f90e9b.png)\n",
    "\n",
    "$4t_1 + 2t_2 + t_3 + 0.5t_4 = 400$\n",
    "\n",
    "$P(G=3) = \\int_0^{100}\\int_0^{200-2t_1}\\int_0^{400-4t_1-2t_2} \\lambda e^{-\\lambda t_1} \\lambda e^{-\\lambda t_2} \\lambda e^{-\\lambda t_3} e^{-\\lambda t_4} dt_2 dt_1\n",
    "= \\int_0^{100}\\int_0^{200-2t_1}\\int_0^{400-4t_1-2t_2} \\lambda^3 e^{- \\lambda (800 - 7t_1 - 3t_2 - t_3)} dt_3dt_2 dt_1\n",
    "$"
   ]
  },
  {
   "cell_type": "markdown",
   "id": "3fc53289-3370-4569-82fc-da2fa52f3574",
   "metadata": {},
   "source": [
    "##### P(安全送信) = P(G=0) + p(G=1) + P(G=2) +P(G=3)\n",
    "\n",
    "***下面是python计算的代码***"
   ]
  },
  {
   "cell_type": "code",
   "execution_count": 1,
   "id": "4063f127-aef5-42b4-996c-0d47ba0c9f74",
   "metadata": {},
   "outputs": [],
   "source": [
    "from sympy import integrate, exp, symbols\n",
    "\n",
    "\n",
    "u = 25.5622\n",
    "lam = 1/u\n"
   ]
  },
  {
   "cell_type": "code",
   "execution_count": 2,
   "id": "79f19f01-c2b0-4ff3-bc61-7dd7fb19f15e",
   "metadata": {},
   "outputs": [
    {
     "name": "stdout",
     "output_type": "stream",
     "text": [
      "0.0199999330804848\n"
     ]
    }
   ],
   "source": [
    "P0 = exp(-lam*100)\n",
    "print(P0)"
   ]
  },
  {
   "cell_type": "code",
   "execution_count": 3,
   "id": "92854d87-8cf9-4925-88c7-297ea0473431",
   "metadata": {},
   "outputs": [
    {
     "name": "stdout",
     "output_type": "stream",
     "text": [
      "0.0195999357572609\n"
     ]
    }
   ],
   "source": [
    "t1 = symbols('t1')\n",
    "P1 = integrate(lam*exp(-lam*(200-t1)), (t1, 0, 100))\n",
    "print(P1)"
   ]
  },
  {
   "cell_type": "code",
   "execution_count": 4,
   "id": "99eb5868-0419-4945-8525-5eb7b12a6196",
   "metadata": {},
   "outputs": [
    {
     "name": "stdout",
     "output_type": "stream",
     "text": [
      "0.0129333447297189\n"
     ]
    }
   ],
   "source": [
    "t1, t2 = symbols('t1 t2')\n",
    "P2 = integrate((lam*lam)*exp(-lam*(400-3*t1-t2)), (t2, 0, 200-2*t1), (t1, 0, 100))\n",
    "print(P2)"
   ]
  },
  {
   "cell_type": "code",
   "execution_count": 5,
   "id": "22bd79d1-9484-46fe-9eae-caad31a5a387",
   "metadata": {},
   "outputs": [
    {
     "name": "stdout",
     "output_type": "stream",
     "text": [
      "0.00735241057636804\n"
     ]
    }
   ],
   "source": [
    "t1, t2, t3 = symbols('t1 t2 t3')\n",
    "P3 = integrate((lam*lam*lam)*exp(-lam*(800 - 7*t1 - 3*t2 - t3)), (t3, 0, 400 - 4*t1 - 2*t2), (t2, 0, 200-2*t1), (t1, 0, 100))\n",
    "print(P3)"
   ]
  },
  {
   "cell_type": "code",
   "execution_count": 6,
   "id": "e6b95f3c-5de0-46cc-bf84-92b07dd4cb63",
   "metadata": {},
   "outputs": [
    {
     "name": "stdout",
     "output_type": "stream",
     "text": [
      "0.0598856241438327\n"
     ]
    }
   ],
   "source": [
    "P = P0 + P1 + P2 + P3\n",
    "print(P)"
   ]
  },
  {
   "cell_type": "code",
   "execution_count": null,
   "id": "65b888dd-ff34-4a34-bf97-849d759fb90c",
   "metadata": {},
   "outputs": [],
   "source": []
  }
 ],
 "metadata": {
  "kernelspec": {
   "display_name": "Python 3",
   "language": "python",
   "name": "python3"
  },
  "language_info": {
   "codemirror_mode": {
    "name": "ipython",
    "version": 3
   },
   "file_extension": ".py",
   "mimetype": "text/x-python",
   "name": "python",
   "nbconvert_exporter": "python",
   "pygments_lexer": "ipython3",
   "version": "3.8.5"
  }
 },
 "nbformat": 4,
 "nbformat_minor": 5
}
